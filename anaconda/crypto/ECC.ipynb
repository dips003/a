{
 "cells": [
  {
   "cell_type": "code",
   "execution_count": 1,
   "metadata": {
    "collapsed": false
   },
   "outputs": [
    {
     "name": "stdout",
     "output_type": "stream",
     "text": [
      "enter limit of n\n",
      "30\n",
      "enter private key of alice: \n",
      "12\n",
      "enter private key of bob: \n",
      "13\n",
      "enterG of x & y: \n",
      "4\n",
      "6\n"
     ]
    }
   ],
   "source": [
    "import numpy as np\n",
    "print(\"enter limit of n\")\n",
    "n=int(input())\n",
    "print(\"enter private key of alice: \")\n",
    "apr=int(input())\n",
    "print(\"enter private key of bob: \")\n",
    "bpr=int(input())\n",
    "print(\"enterG of x & y: \")\n",
    "G=np.array([(int(input()),int(input()))])"
   ]
  },
  {
   "cell_type": "code",
   "execution_count": 2,
   "metadata": {
    "collapsed": true
   },
   "outputs": [],
   "source": [
    "apb=apr*G\n",
    "bpb=bpr*G"
   ]
  },
  {
   "cell_type": "code",
   "execution_count": 4,
   "metadata": {
    "collapsed": false
   },
   "outputs": [
    {
     "name": "stdout",
     "output_type": "stream",
     "text": [
      "[[624 936]]\n",
      "[[624 936]]\n"
     ]
    }
   ],
   "source": [
    "shareda=apr*bpb\n",
    "sharedb=bpr*apb\n",
    "k=shareda\n",
    "print(shareda)\n",
    "print(sharedb)"
   ]
  },
  {
   "cell_type": "code",
   "execution_count": 6,
   "metadata": {
    "collapsed": false
   },
   "outputs": [
    {
     "name": "stdout",
     "output_type": "stream",
     "text": [
      "enter plain text: x ,y\n",
      "8\n",
      "9\n"
     ]
    }
   ],
   "source": [
    "print(\"enter plain text: x ,y\")\n",
    "pl=np.array([(int(input()),int(input()))])\n",
    "cipher1=k*G\n",
    "cipher2=(pl+k*bpb)\n"
   ]
  },
  {
   "cell_type": "code",
   "execution_count": 7,
   "metadata": {
    "collapsed": false
   },
   "outputs": [
    {
     "name": "stdout",
     "output_type": "stream",
     "text": [
      "decrypted:  [[8 9]]\n"
     ]
    }
   ],
   "source": [
    "d1=cipher1*bpr\n",
    "d2=cipher2-d1\n",
    "print(\"decrypted: \",d2)"
   ]
  },
  {
   "cell_type": "code",
   "execution_count": null,
   "metadata": {
    "collapsed": true
   },
   "outputs": [],
   "source": []
  }
 ],
 "metadata": {
  "kernelspec": {
   "display_name": "Python 3",
   "language": "python",
   "name": "python3"
  },
  "language_info": {
   "codemirror_mode": {
    "name": "ipython",
    "version": 3
   },
   "file_extension": ".py",
   "mimetype": "text/x-python",
   "name": "python",
   "nbconvert_exporter": "python",
   "pygments_lexer": "ipython3",
   "version": "3.6.3"
  }
 },
 "nbformat": 4,
 "nbformat_minor": 2
}
